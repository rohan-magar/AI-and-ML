{
  "nbformat": 4,
  "nbformat_minor": 0,
  "metadata": {
    "colab": {
      "provenance": []
    },
    "kernelspec": {
      "name": "python3",
      "display_name": "Python 3"
    },
    "language_info": {
      "name": "python"
    }
  },
  "cells": [
    {
      "cell_type": "code",
      "execution_count": 39,
      "metadata": {
        "colab": {
          "base_uri": "https://localhost:8080/"
        },
        "id": "JwyvlKIHQ6RW",
        "outputId": "55503e90-3c28-4ae5-85b4-0e4e9772f556"
      },
      "outputs": [
        {
          "output_type": "stream",
          "name": "stdout",
          "text": [
            "Requirement already satisfied: gdown in /usr/local/lib/python3.11/dist-packages (5.2.0)\n",
            "Requirement already satisfied: beautifulsoup4 in /usr/local/lib/python3.11/dist-packages (from gdown) (4.13.3)\n",
            "Requirement already satisfied: filelock in /usr/local/lib/python3.11/dist-packages (from gdown) (3.18.0)\n",
            "Requirement already satisfied: requests[socks] in /usr/local/lib/python3.11/dist-packages (from gdown) (2.32.3)\n",
            "Requirement already satisfied: tqdm in /usr/local/lib/python3.11/dist-packages (from gdown) (4.67.1)\n",
            "Requirement already satisfied: soupsieve>1.2 in /usr/local/lib/python3.11/dist-packages (from beautifulsoup4->gdown) (2.6)\n",
            "Requirement already satisfied: typing-extensions>=4.0.0 in /usr/local/lib/python3.11/dist-packages (from beautifulsoup4->gdown) (4.13.0)\n",
            "Requirement already satisfied: charset-normalizer<4,>=2 in /usr/local/lib/python3.11/dist-packages (from requests[socks]->gdown) (3.4.1)\n",
            "Requirement already satisfied: idna<4,>=2.5 in /usr/local/lib/python3.11/dist-packages (from requests[socks]->gdown) (3.10)\n",
            "Requirement already satisfied: urllib3<3,>=1.21.1 in /usr/local/lib/python3.11/dist-packages (from requests[socks]->gdown) (2.3.0)\n",
            "Requirement already satisfied: certifi>=2017.4.17 in /usr/local/lib/python3.11/dist-packages (from requests[socks]->gdown) (2025.1.31)\n",
            "Requirement already satisfied: PySocks!=1.5.7,>=1.5.6 in /usr/local/lib/python3.11/dist-packages (from requests[socks]->gdown) (1.7.1)\n"
          ]
        }
      ],
      "source": [
        "pip install gdown"
      ]
    },
    {
      "cell_type": "code",
      "source": [
        "!gdown 1-S5YkYSscrzSd_QArhC6R7qIMW2abc9s"
      ],
      "metadata": {
        "colab": {
          "base_uri": "https://localhost:8080/"
        },
        "id": "ud9ZHBt9RhVT",
        "outputId": "6b7dedaa-f1b3-4d46-9907-b8865271863a"
      },
      "execution_count": 40,
      "outputs": [
        {
          "output_type": "stream",
          "name": "stdout",
          "text": [
            "Downloading...\n",
            "From: https://drive.google.com/uc?id=1-S5YkYSscrzSd_QArhC6R7qIMW2abc9s\n",
            "To: /content/Copy of FruitinAmazon.zip\n",
            "\r  0% 0.00/1.24M [00:00<?, ?B/s]\r100% 1.24M/1.24M [00:00<00:00, 90.0MB/s]\n"
          ]
        }
      ]
    },
    {
      "cell_type": "code",
      "source": [
        "!unzip '/content/Copy of FruitinAmazon.zip'"
      ],
      "metadata": {
        "colab": {
          "base_uri": "https://localhost:8080/"
        },
        "id": "26fzPELNRrag",
        "outputId": "f0a871e7-4a9d-4929-dae0-3f7eedfe264e"
      },
      "execution_count": 41,
      "outputs": [
        {
          "output_type": "stream",
          "name": "stdout",
          "text": [
            "Archive:  /content/Copy of FruitinAmazon.zip\n",
            "replace FruitinAmazon/test/cupuacu/download (5).jpeg? [y]es, [n]o, [A]ll, [N]one, [r]ename: A\n",
            "  inflating: FruitinAmazon/test/cupuacu/download (5).jpeg  \n",
            "  inflating: FruitinAmazon/test/acai/images (2).jpeg  \n",
            "  inflating: FruitinAmazon/test/cupuacu/download (3).jpeg  \n",
            "  inflating: FruitinAmazon/test/acai/images (16).jpeg  \n",
            "  inflating: FruitinAmazon/test/pupunha/download (2).jpeg  \n",
            "  inflating: FruitinAmazon/train/pupunha/images (1).jpeg  \n",
            "  inflating: FruitinAmazon/test/cupuacu/download (2).jpeg  \n",
            "  inflating: FruitinAmazon/test/pupunha/download (1).jpeg  \n",
            "  inflating: FruitinAmazon/train/acai/images (3).jpeg  \n",
            "  inflating: FruitinAmazon/train/acai/images (4).jpeg  \n",
            "  inflating: FruitinAmazon/test/graviola/download (1).jpeg  \n",
            "  inflating: FruitinAmazon/test/pupunha/download (11).jpeg  \n",
            "  inflating: FruitinAmazon/test/pupunha/download (4).jpeg  \n",
            "  inflating: FruitinAmazon/train/acai/images (11).jpeg  \n",
            "  inflating: FruitinAmazon/test/tucuma/download (1).jpeg  \n",
            "  inflating: FruitinAmazon/test/acai/images.jpeg  \n",
            "  inflating: FruitinAmazon/train/acai/images (10).jpeg  \n",
            "  inflating: FruitinAmazon/test/cupuacu/images (3).jpeg  \n",
            "  inflating: FruitinAmazon/train/acai/images (13).jpeg  \n",
            "  inflating: FruitinAmazon/test/tucuma/download (5).jpeg  \n",
            "  inflating: FruitinAmazon/test/graviola/images (4).jpeg  \n",
            "  inflating: FruitinAmazon/train/acai/images (7).jpeg  \n",
            "  inflating: FruitinAmazon/train/pupunha/images (6).jpeg  \n",
            "  inflating: FruitinAmazon/train/acai/images (1).jpeg  \n",
            "  inflating: FruitinAmazon/train/pupunha/images.jpeg  \n",
            "  inflating: FruitinAmazon/train/acai/images (15).jpeg  \n",
            "  inflating: FruitinAmazon/train/pupunha/images (4).jpeg  \n",
            "  inflating: FruitinAmazon/test/cupuacu/download (4).jpeg  \n",
            "  inflating: FruitinAmazon/train/pupunha/images (5).jpeg  \n",
            "  inflating: FruitinAmazon/test/acai/download (9).jpeg  \n",
            "  inflating: FruitinAmazon/train/acai/images (5).jpeg  \n",
            "  inflating: FruitinAmazon/train/pupunha/images (8).jpeg  \n",
            "  inflating: FruitinAmazon/train/acai/images (8).jpeg  \n",
            "  inflating: FruitinAmazon/test/graviola/download (3).jpeg  \n",
            "  inflating: FruitinAmazon/train/pupunha/images (3).jpeg  \n",
            "  inflating: FruitinAmazon/train/acai/images (9).jpeg  \n",
            "  inflating: FruitinAmazon/test/graviola/download (2).jpeg  \n",
            "  inflating: FruitinAmazon/train/acai/images (14).jpeg  \n",
            "  inflating: FruitinAmazon/test/guarana/download (2).jpeg  \n",
            "  inflating: FruitinAmazon/train/pupunha/download.jpeg  \n",
            "  inflating: FruitinAmazon/train/pupunha/images (10).jpeg  \n",
            "  inflating: FruitinAmazon/train/acai/images (18).jpeg  \n",
            "  inflating: FruitinAmazon/train/guarana/download (7).jpeg  \n",
            "  inflating: FruitinAmazon/test/tucuma/download (8).jpeg  \n",
            "  inflating: FruitinAmazon/train/pupunha/images (9).jpeg  \n",
            "  inflating: FruitinAmazon/train/pupunha/images (7).jpeg  \n",
            "  inflating: FruitinAmazon/train/guarana/images (8).jpeg  \n",
            "  inflating: FruitinAmazon/train/pupunha/images (13).jpeg  \n",
            "  inflating: FruitinAmazon/test/tucuma/download (4).jpeg  \n",
            "  inflating: FruitinAmazon/train/guarana/download (8).jpeg  \n",
            "  inflating: FruitinAmazon/test/guarana/download (4).jpeg  \n",
            "  inflating: FruitinAmazon/test/pupunha/download (3).jpeg  \n",
            "  inflating: FruitinAmazon/test/guarana/download (3).jpeg  \n",
            "  inflating: FruitinAmazon/train/graviola/images (6).jpeg  \n",
            "  inflating: FruitinAmazon/train/guarana/images (3).jpeg  \n",
            "  inflating: FruitinAmazon/train/graviola/download (7).jpeg  \n",
            "  inflating: FruitinAmazon/train/guarana/images.jpeg  \n",
            "  inflating: FruitinAmazon/train/graviola/images (7).jpeg  \n",
            "  inflating: FruitinAmazon/test/tucuma/download (2).jpeg  \n",
            "  inflating: FruitinAmazon/train/guarana/images (1).jpeg  \n",
            "  inflating: FruitinAmazon/train/guarana/download (6).jpeg  \n",
            "  inflating: FruitinAmazon/train/pupunha/images (2).jpeg  \n",
            "  inflating: FruitinAmazon/test/guarana/download (5).jpeg  \n",
            "  inflating: FruitinAmazon/train/graviola/download (6).jpeg  \n",
            "  inflating: FruitinAmazon/train/graviola/images (3).jpeg  \n",
            "  inflating: FruitinAmazon/train/graviola/images (10).jpeg  \n",
            "  inflating: FruitinAmazon/train/pupunha/images (12).jpeg  \n",
            "  inflating: FruitinAmazon/train/graviola/images (8).jpeg  \n",
            "  inflating: FruitinAmazon/train/guarana/download (10).jpeg  \n",
            "  inflating: FruitinAmazon/train/tucuma/images (2).jpeg  \n",
            "  inflating: FruitinAmazon/train/tucuma/images (1).jpeg  \n",
            "  inflating: FruitinAmazon/train/guarana/images (6).jpeg  \n",
            "  inflating: FruitinAmazon/train/guarana/images (5).jpeg  \n",
            "  inflating: FruitinAmazon/train/guarana/download (1).jpeg  \n",
            "  inflating: FruitinAmazon/train/guarana/images (2).jpeg  \n",
            "  inflating: FruitinAmazon/train/tucuma/download (9).jpeg  \n",
            "  inflating: FruitinAmazon/train/graviola/download (8).jpeg  \n",
            "  inflating: FruitinAmazon/train/pupunha/images (11).jpeg  \n",
            "  inflating: FruitinAmazon/train/acai/images (6).jpeg  \n",
            "  inflating: FruitinAmazon/test/guarana/images (4).jpeg  \n",
            "  inflating: FruitinAmazon/train/graviola/download (5).jpeg  \n",
            "  inflating: FruitinAmazon/train/tucuma/images.jpeg  \n",
            "  inflating: FruitinAmazon/train/tucuma/images (9).jpeg  \n",
            "  inflating: FruitinAmazon/train/graviola/download.jpeg  \n",
            "  inflating: FruitinAmazon/train/graviola/images (5).jpeg  \n",
            "  inflating: FruitinAmazon/train/graviola/images (2).jpeg  \n",
            "  inflating: FruitinAmazon/train/guarana/download (9).jpeg  \n",
            "  inflating: FruitinAmazon/train/acai/images (12).jpeg  \n",
            "  inflating: FruitinAmazon/train/tucuma/images (3).jpeg  \n",
            "  inflating: FruitinAmazon/train/tucuma/images (7).jpeg  \n",
            "  inflating: FruitinAmazon/train/graviola/images.jpeg  \n",
            "  inflating: FruitinAmazon/train/tucuma/images (5).jpeg  \n",
            "  inflating: FruitinAmazon/train/tucuma/download (3).jpeg  \n",
            "  inflating: FruitinAmazon/train/cupuacu/images (4).jpeg  \n",
            "  inflating: FruitinAmazon/train/cupuacu/images (7).jpeg  \n",
            "  inflating: FruitinAmazon/train/cupuacu/download.jpeg  \n",
            "  inflating: FruitinAmazon/test/acai/images (17).jpeg  \n",
            "  inflating: FruitinAmazon/train/graviola/images (1).jpeg  \n",
            "  inflating: FruitinAmazon/train/cupuacu/images (13).jpeg  \n",
            "  inflating: FruitinAmazon/train/cupuacu/images (12).jpeg  \n",
            "  inflating: FruitinAmazon/train/tucuma/download (6).jpeg  \n",
            "  inflating: FruitinAmazon/train/cupuacu/images (5).jpeg  \n",
            "  inflating: FruitinAmazon/train/guarana/images (7).jpeg  \n",
            "  inflating: FruitinAmazon/train/tucuma/images (6).jpeg  \n",
            "  inflating: FruitinAmazon/train/cupuacu/images (6).jpeg  \n",
            "  inflating: FruitinAmazon/train/tucuma/images (8).jpeg  \n",
            "  inflating: FruitinAmazon/train/cupuacu/download (1).jpeg  \n",
            "  inflating: FruitinAmazon/test/graviola/download (4).jpeg  \n",
            "  inflating: FruitinAmazon/train/tucuma/images (4).jpeg  \n",
            "  inflating: FruitinAmazon/train/cupuacu/images (8).jpeg  \n",
            "  inflating: FruitinAmazon/train/cupuacu/images (1).jpeg  \n",
            "  inflating: FruitinAmazon/train/cupuacu/images (10).jpeg  \n",
            "  inflating: FruitinAmazon/train/tucuma/download (7).jpeg  \n",
            "  inflating: FruitinAmazon/train/guarana/download.jpeg  \n",
            "  inflating: FruitinAmazon/train/cupuacu/images (2).jpeg  \n",
            "  inflating: FruitinAmazon/train/graviola/images (9).jpeg  \n",
            "  inflating: FruitinAmazon/train/cupuacu/images (11).jpeg  \n",
            "  inflating: FruitinAmazon/train/cupuacu/images (9).jpeg  \n",
            "  inflating: FruitinAmazon/train/tucuma/download.jpeg  \n",
            "  inflating: FruitinAmazon/train/cupuacu/images.jpeg  \n"
          ]
        }
      ]
    },
    {
      "cell_type": "code",
      "source": [
        "import os\n",
        "import numpy as np\n",
        "import tensorflow as tf\n",
        "from tensorflow.keras.utils import to_categorical\n",
        "from sklearn.model_selection import train_test_split\n",
        "import matplotlib.pyplot as plt\n",
        "from PIL import Image # Import Pillow"
      ],
      "metadata": {
        "id": "U4djzIR6R9qk"
      },
      "execution_count": 42,
      "outputs": []
    },
    {
      "cell_type": "code",
      "source": [
        "# Define dataset paths\n",
        "train_dir = \"/content/FruitinAmazon/train\"\n",
        "test_dir = \"/content/FruitinAmazon/test\""
      ],
      "metadata": {
        "id": "uhZopiXdT38j"
      },
      "execution_count": 43,
      "outputs": []
    },
    {
      "cell_type": "code",
      "source": [
        "# Define image size\n",
        "img_height, img_width = 28, 28"
      ],
      "metadata": {
        "id": "_n-L8WRmUZEO"
      },
      "execution_count": 44,
      "outputs": []
    },
    {
      "cell_type": "code",
      "source": [
        "# Function to load images and labels using PIL\n",
        "def load_images_from_folder(folder = \"/content/FruitinAmazon\"):\n",
        "  images = []\n",
        "  labels = []\n",
        "  class_names = sorted(os.listdir(folder)) # Sorted class names (digit_0, digit_1, ...)\n",
        "  class_map = {name: i for i, name in enumerate(class_names)} # Map class names to labels\n",
        "  for class_name in class_names:\n",
        "    class_path = os.path.join(folder, class_name)\n",
        "    label = class_map[class_name]\n",
        "    for filename in os.listdir(class_path):\n",
        "      img_path = os.path.join(class_path, filename)\n",
        "# Load image using PIL\n",
        "      img = Image.open(img_path).convert(\"L\") # Convert to grayscale\n",
        "      img = img.resize((img_width, img_height)) # Resize to (28,28)\n",
        "      img = np.array(img) / 255.0 # Normalize pixel values to [0,1]\n",
        "      images.append(img)\n",
        "      labels.append(label)\n",
        "  return np.array(images), np.array(labels)"
      ],
      "metadata": {
        "id": "q2p1NtLYUchA"
      },
      "execution_count": 45,
      "outputs": []
    },
    {
      "cell_type": "code",
      "source": [
        "# Load training and testing datasets\n",
        "x_train, y_train = load_images_from_folder(train_dir)\n",
        "x_test, y_test = load_images_from_folder(test_dir)\n",
        "# Reshape images for Keras input\n",
        "x_train = x_train.reshape(-1, img_height, img_width, 1) # Shape (num_samples, 28, 28, 1)\n",
        "x_test = x_test.reshape(-1, img_height, img_width, 1)\n",
        "# One-hot encode labels\n",
        "y_train = to_categorical(y_train, num_classes=10)\n",
        "y_test = to_categorical(y_test, num_classes=10)\n",
        "# Print dataset shape\n",
        "print(f\"Training set: {x_train.shape}, Labels: {y_train.shape}\")\n",
        "print(f\"Testing set: {x_test.shape}, Labels: {y_test.shape}\")\n",
        "# Visualize some images\n",
        "plt.figure(figsize=(10, 4))\n",
        "for i in range(10):\n",
        "  plt.subplot(2, 5, i + 1)\n",
        "  plt.imshow(x_train[i].reshape(28, 28), cmap='gray')\n",
        "  plt.title(f\"Label: {np.argmax(y_train[i])}\")\n",
        "  plt.axis(\"off\")\n",
        "plt.show"
      ],
      "metadata": {
        "colab": {
          "base_uri": "https://localhost:8080/",
          "height": 564
        },
        "id": "GrEENa0cUyb8",
        "outputId": "eb03e877-b256-44fd-f8d0-999ddae4aa7f"
      },
      "execution_count": 46,
      "outputs": [
        {
          "output_type": "stream",
          "name": "stdout",
          "text": [
            "Training set: (90, 28, 28, 1), Labels: (90, 10)\n",
            "Testing set: (30, 28, 28, 1), Labels: (30, 10)\n"
          ]
        },
        {
          "output_type": "execute_result",
          "data": {
            "text/plain": [
              "<function matplotlib.pyplot.show(close=None, block=None)>"
            ],
            "text/html": [
              "<div style=\"max-width:800px; border: 1px solid var(--colab-border-color);\"><style>\n",
              "      pre.function-repr-contents {\n",
              "        overflow-x: auto;\n",
              "        padding: 8px 12px;\n",
              "        max-height: 500px;\n",
              "      }\n",
              "\n",
              "      pre.function-repr-contents.function-repr-contents-collapsed {\n",
              "        cursor: pointer;\n",
              "        max-height: 100px;\n",
              "      }\n",
              "    </style>\n",
              "    <pre style=\"white-space: initial; background:\n",
              "         var(--colab-secondary-surface-color); padding: 8px 12px;\n",
              "         border-bottom: 1px solid var(--colab-border-color);\"><b>matplotlib.pyplot.show</b><br/>def show(*args, **kwargs) -&gt; None</pre><pre class=\"function-repr-contents function-repr-contents-collapsed\" style=\"\"><a class=\"filepath\" style=\"display:none\" href=\"#\">/usr/local/lib/python3.11/dist-packages/matplotlib/pyplot.py</a>Display all open figures.\n",
              "\n",
              "Parameters\n",
              "----------\n",
              "block : bool, optional\n",
              "    Whether to wait for all figures to be closed before returning.\n",
              "\n",
              "    If `True` block and run the GUI main loop until all figure windows\n",
              "    are closed.\n",
              "\n",
              "    If `False` ensure that all figure windows are displayed and return\n",
              "    immediately.  In this case, you are responsible for ensuring\n",
              "    that the event loop is running to have responsive figures.\n",
              "\n",
              "    Defaults to True in non-interactive mode and to False in interactive\n",
              "    mode (see `.pyplot.isinteractive`).\n",
              "\n",
              "See Also\n",
              "--------\n",
              "ion : Enable interactive mode, which shows / updates the figure after\n",
              "      every plotting command, so that calling ``show()`` is not necessary.\n",
              "ioff : Disable interactive mode.\n",
              "savefig : Save the figure to an image file instead of showing it on screen.\n",
              "\n",
              "Notes\n",
              "-----\n",
              "**Saving figures to file and showing a window at the same time**\n",
              "\n",
              "If you want an image file as well as a user interface window, use\n",
              "`.pyplot.savefig` before `.pyplot.show`. At the end of (a blocking)\n",
              "``show()`` the figure is closed and thus unregistered from pyplot. Calling\n",
              "`.pyplot.savefig` afterwards would save a new and thus empty figure. This\n",
              "limitation of command order does not apply if the show is non-blocking or\n",
              "if you keep a reference to the figure and use `.Figure.savefig`.\n",
              "\n",
              "**Auto-show in jupyter notebooks**\n",
              "\n",
              "The jupyter backends (activated via ``%matplotlib inline``,\n",
              "``%matplotlib notebook``, or ``%matplotlib widget``), call ``show()`` at\n",
              "the end of every cell by default. Thus, you usually don&#x27;t have to call it\n",
              "explicitly there.</pre>\n",
              "      <script>\n",
              "      if (google.colab.kernel.accessAllowed && google.colab.files && google.colab.files.view) {\n",
              "        for (const element of document.querySelectorAll('.filepath')) {\n",
              "          element.style.display = 'block'\n",
              "          element.onclick = (event) => {\n",
              "            event.preventDefault();\n",
              "            event.stopPropagation();\n",
              "            google.colab.files.view(element.textContent, 569);\n",
              "          };\n",
              "        }\n",
              "      }\n",
              "      for (const element of document.querySelectorAll('.function-repr-contents')) {\n",
              "        element.onclick = (event) => {\n",
              "          event.preventDefault();\n",
              "          event.stopPropagation();\n",
              "          element.classList.toggle('function-repr-contents-collapsed');\n",
              "        };\n",
              "      }\n",
              "      </script>\n",
              "      </div>"
            ]
          },
          "metadata": {},
          "execution_count": 46
        },
        {
          "output_type": "display_data",
          "data": {
            "text/plain": [
              "<Figure size 1000x400 with 10 Axes>"
            ],
            "image/png": "[encoded data removed]"
          },
          "metadata": {}
        }
      ]
    },
    {
      "cell_type": "code",
      "source": [
        "x_train = x_train.reshape(-1, img_height, img_width, 1)\n",
        "x_test = x_test.reshape(-1, img_height, img_width, 1)"
      ],
      "metadata": {
        "id": "s4vX711FVaiC"
      },
      "execution_count": 51,
      "outputs": []
    },
    {
      "cell_type": "code",
      "source": [
        "import numpy as np\n",
        "import tensorflow as tf\n",
        "from tensorflow.keras.datasets import mnist\n",
        "# Load the MNIST dataset\n",
        "(x_train, y_train), (x_test, y_test) = mnist.load_data()\n",
        "# Normalize the images to values between 0 and 1\n",
        "x_train, x_test = x_train / 255.0, x_test / 255.0\n",
        "# Flatten the 28x28 images into 784-dimensional vectors\n",
        "x_train = x_train.reshape(-1, 28 * 28)\n",
        "x_test = x_test.reshape(-1, 28 * 28)\n",
        "# One-hot encode the labels (0-9) for classification\n",
        "y_train = tf.keras.utils.to_categorical(y_train, 10)\n",
        "y_test = tf.keras.utils.to_categorical(y_test, 10)"
      ],
      "metadata": {
        "id": "HeLiQlIPVcld"
      },
      "execution_count": 48,
      "outputs": []
    },
    {
      "cell_type": "code",
      "source": [
        "import tensorflow as tf\n",
        "from tensorflow import keras\n",
        "from tensorflow.keras.models import Sequential\n",
        "from tensorflow.keras.layers import Conv2D, MaxPooling2D, Flatten, Dense, Dropout\n",
        "\n",
        "num_classes = 10\n",
        "input_shape = (28, 28, 1)\n",
        "\n",
        "model = Sequential([\n",
        "    Conv2D(32, (3,3), activation='relu', input_shape=input_shape),\n",
        "    MaxPooling2D(pool_size=(2,2)),\n",
        "\n",
        "    Conv2D(64, (3,3), activation='relu'),\n",
        "    MaxPooling2D(pool_size=(2,2)),\n",
        "\n",
        "    Conv2D(128, (3,3), activation='relu'),\n",
        "    MaxPooling2D(pool_size=(2,2)),\n",
        "\n",
        "    Flatten(),\n",
        "    Dense(128, activation='relu'),\n",
        "    Dropout(0.5),  # Prevent overfitting\n",
        "    Dense(64, activation='relu'),\n",
        "    Dense(num_classes, activation='softmax')\n",
        "])"
      ],
      "metadata": {
        "id": "gJcFdQ-Per0K",
        "colab": {
          "base_uri": "https://localhost:8080/"
        },
        "outputId": "4eeb9271-b0a6-4d27-fe42-1e28b632e5ae"
      },
      "execution_count": 49,
      "outputs": [
        {
          "output_type": "stream",
          "name": "stderr",
          "text": [
            "/usr/local/lib/python3.11/dist-packages/keras/src/layers/convolutional/base_conv.py:107: UserWarning: Do not pass an `input_shape`/`input_dim` argument to a layer. When using Sequential models, prefer using an `Input(shape)` object as the first layer in the model instead.\n",
            "  super().__init__(activity_regularizer=activity_regularizer, **kwargs)\n"
          ]
        }
      ]
    },
    {
      "cell_type": "code",
      "source": [
        "# Compile the Model\n",
        "model.compile(optimizer=tf.keras.optimizers.Adam(learning_rate=0.001),\n",
        "              loss='categorical_crossentropy',\n",
        "              metrics=['accuracy'])\n",
        "\n",
        "# Train the Model\n",
        "history = model.fit(x_train, y_train, validation_data=(x_test, y_test), epochs=20)"
      ],
      "metadata": {
        "colab": {
          "base_uri": "https://localhost:8080/"
        },
        "id": "3LAVBMCkev5U",
        "outputId": "4c8d7bfb-7ca2-4be0-e5ce-42c9289cf2e2"
      },
      "execution_count": null,
      "outputs": [
        {
          "output_type": "stream",
          "name": "stdout",
          "text": [
            "Epoch 1/20\n",
            "\u001b[1m1875/1875\u001b[0m \u001b[32m━━━━━━━━━━━━━━━━━━━━\u001b[0m\u001b[37m\u001b[0m \u001b[1m66s\u001b[0m 34ms/step - accuracy: 0.9942 - loss: 0.0216 - val_accuracy: 0.9867 - val_loss: 0.0580\n",
            "Epoch 2/20\n",
            "\u001b[1m1875/1875\u001b[0m \u001b[32m━━━━━━━━━━━━━━━━━━━━\u001b[0m\u001b[37m\u001b[0m \u001b[1m80s\u001b[0m 33ms/step - accuracy: 0.9948 - loss: 0.0184 - val_accuracy: 0.9890 - val_loss: 0.0585\n",
            "Epoch 3/20\n",
            "\u001b[1m1875/1875\u001b[0m \u001b[32m━━━━━━━━━━━━━━━━━━━━\u001b[0m\u001b[37m\u001b[0m \u001b[1m81s\u001b[0m 33ms/step - accuracy: 0.9954 - loss: 0.0159 - val_accuracy: 0.9876 - val_loss: 0.0600\n",
            "Epoch 4/20\n",
            "\u001b[1m1875/1875\u001b[0m \u001b[32m━━━━━━━━━━━━━━━━━━━━\u001b[0m\u001b[37m\u001b[0m \u001b[1m82s\u001b[0m 33ms/step - accuracy: 0.9954 - loss: 0.0137 - val_accuracy: 0.9878 - val_loss: 0.0631\n",
            "Epoch 5/20\n",
            "\u001b[1m1875/1875\u001b[0m \u001b[32m━━━━━━━━━━━━━━━━━━━━\u001b[0m\u001b[37m\u001b[0m \u001b[1m84s\u001b[0m 34ms/step - accuracy: 0.9963 - loss: 0.0126 - val_accuracy: 0.9885 - val_loss: 0.0555\n",
            "Epoch 6/20\n",
            "\u001b[1m1875/1875\u001b[0m \u001b[32m━━━━━━━━━━━━━━━━━━━━\u001b[0m\u001b[37m\u001b[0m \u001b[1m78s\u001b[0m 32ms/step - accuracy: 0.9966 - loss: 0.0114 - val_accuracy: 0.9878 - val_loss: 0.0636\n",
            "Epoch 7/20\n",
            "\u001b[1m1875/1875\u001b[0m \u001b[32m━━━━━━━━━━━━━━━━━━━━\u001b[0m\u001b[37m\u001b[0m \u001b[1m85s\u001b[0m 34ms/step - accuracy: 0.9966 - loss: 0.0133 - val_accuracy: 0.9878 - val_loss: 0.0684\n",
            "Epoch 8/20\n",
            "\u001b[1m1875/1875\u001b[0m \u001b[32m━━━━━━━━━━━━━━━━━━━━\u001b[0m\u001b[37m\u001b[0m \u001b[1m79s\u001b[0m 32ms/step - accuracy: 0.9964 - loss: 0.0140 - val_accuracy: 0.9883 - val_loss: 0.0605\n",
            "Epoch 9/20\n",
            "\u001b[1m1875/1875\u001b[0m \u001b[32m━━━━━━━━━━━━━━━━━━━━\u001b[0m\u001b[37m\u001b[0m \u001b[1m60s\u001b[0m 32ms/step - accuracy: 0.9971 - loss: 0.0107 - val_accuracy: 0.9884 - val_loss: 0.0664\n",
            "Epoch 10/20\n",
            "\u001b[1m1875/1875\u001b[0m \u001b[32m━━━━━━━━━━━━━━━━━━━━\u001b[0m\u001b[37m\u001b[0m \u001b[1m60s\u001b[0m 32ms/step - accuracy: 0.9969 - loss: 0.0123 - val_accuracy: 0.9872 - val_loss: 0.0665\n",
            "Epoch 11/20\n",
            "\u001b[1m1875/1875\u001b[0m \u001b[32m━━━━━━━━━━━━━━━━━━━━\u001b[0m\u001b[37m\u001b[0m \u001b[1m84s\u001b[0m 33ms/step - accuracy: 0.9967 - loss: 0.0115 - val_accuracy: 0.9893 - val_loss: 0.0615\n",
            "Epoch 12/20\n",
            "\u001b[1m1875/1875\u001b[0m \u001b[32m━━━━━━━━━━━━━━━━━━━━\u001b[0m\u001b[37m\u001b[0m \u001b[1m62s\u001b[0m 33ms/step - accuracy: 0.9974 - loss: 0.0089 - val_accuracy: 0.9884 - val_loss: 0.0693\n",
            "Epoch 13/20\n",
            "\u001b[1m1875/1875\u001b[0m \u001b[32m━━━━━━━━━━━━━━━━━━━━\u001b[0m\u001b[37m\u001b[0m \u001b[1m81s\u001b[0m 33ms/step - accuracy: 0.9969 - loss: 0.0110 - val_accuracy: 0.9900 - val_loss: 0.0544\n",
            "Epoch 14/20\n",
            "\u001b[1m1875/1875\u001b[0m \u001b[32m━━━━━━━━━━━━━━━━━━━━\u001b[0m\u001b[37m\u001b[0m \u001b[1m64s\u001b[0m 34ms/step - accuracy: 0.9976 - loss: 0.0103 - val_accuracy: 0.9889 - val_loss: 0.0680\n",
            "Epoch 15/20\n",
            "\u001b[1m1875/1875\u001b[0m \u001b[32m━━━━━━━━━━━━━━━━━━━━\u001b[0m\u001b[37m\u001b[0m \u001b[1m79s\u001b[0m 32ms/step - accuracy: 0.9968 - loss: 0.0097 - val_accuracy: 0.9894 - val_loss: 0.0648\n",
            "Epoch 16/20\n",
            "\u001b[1m1875/1875\u001b[0m \u001b[32m━━━━━━━━━━━━━━━━━━━━\u001b[0m\u001b[37m\u001b[0m \u001b[1m62s\u001b[0m 33ms/step - accuracy: 0.9985 - loss: 0.0056 - val_accuracy: 0.9881 - val_loss: 0.0805\n",
            "Epoch 17/20\n",
            "\u001b[1m1733/1875\u001b[0m \u001b[32m━━━━━━━━━━━━━━━━━━\u001b[0m\u001b[37m━━\u001b[0m \u001b[1m4s\u001b[0m 31ms/step - accuracy: 0.9974 - loss: 0.0080"
          ]
        }
      ]
    },
    {
      "cell_type": "code",
      "source": [
        "# Evaluate the Model\n",
        "loss, accuracy = model.evaluate(x_test, y_test)\n",
        "print(f'Test Accuracy: {accuracy*100:.2f}%')\n",
        "\n",
        "# Plot Training History\n",
        "plt.plot(history.history['accuracy'], label='Train Accuracy')\n",
        "plt.plot(history.history['val_accuracy'], label='Validation Accuracy')\n",
        "plt.xlabel('Epochs')\n",
        "plt.ylabel('Accuracy')\n",
        "plt.legend()\n",
        "plt.show()"
      ],
      "metadata": {
        "colab": {
          "base_uri": "https://localhost:8080/",
          "height": 484
        },
        "id": "PgQf4UTNw8wV",
        "outputId": "9e75da2a-d239-45c6-85da-eb9f16a879be"
      },
      "execution_count": 55,
      "outputs": [
        {
          "output_type": "stream",
          "name": "stdout",
          "text": [
            "\u001b[1m313/313\u001b[0m \u001b[32m━━━━━━━━━━━━━━━━━━━━\u001b[0m\u001b[37m\u001b[0m \u001b[1m3s\u001b[0m 10ms/step - accuracy: 0.9851 - loss: 0.1060\n",
            "Test Accuracy: 98.88%\n"
          ]
        },
        {
          "output_type": "display_data",
          "data": {
            "text/plain": [
              "<Figure size 640x480 with 1 Axes>"
            ],
            "image/png": "[encoded data removed]"
          },
          "metadata": {}
        }
      ]
    }
  ]
}